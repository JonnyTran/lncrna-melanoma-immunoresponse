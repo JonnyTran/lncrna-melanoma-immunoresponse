{
 "cells": [
  {
   "cell_type": "code",
   "execution_count": 396,
   "metadata": {
    "collapsed": true
   },
   "outputs": [],
   "source": [
    "import metric_learn\n",
    "import numpy as np\n",
    "import pandas as pd\n",
    "\n",
    "from sklearn.datasets import fetch_mldata\n",
    "from sklearn.svm import SVC\n",
    "from sklearn import metrics\n",
    "from sklearn.cross_validation import train_test_split\n",
    "from sklearn.model_selection import StratifiedKFold\n",
    "import sklearn.feature_selection\n",
    "import sklearn.linear_model\n",
    "\n",
    "import matplotlib.pyplot as plt\n",
    "\n",
    "from scipy.sparse.csgraph import laplacian"
   ]
  },
  {
   "cell_type": "code",
   "execution_count": 279,
   "metadata": {
    "collapsed": true
   },
   "outputs": [],
   "source": [
    "leukemia = fetch_mldata('leukemia')"
   ]
  },
  {
   "cell_type": "code",
   "execution_count": 480,
   "metadata": {},
   "outputs": [
    {
     "name": "stdout",
     "output_type": "stream",
     "text": [
      "(72, 7129)\n",
      "(72, 1342)\n"
     ]
    }
   ],
   "source": [
    "X = leukemia.data\n",
    "y = leukemia.target\n",
    "\n",
    "print X.shape\n",
    "\n",
    "X = sklearn.feature_selection.SelectFdr(alpha=0.1).fit_transform(X, y=y)\n",
    "# X = X[:,:100]\n",
    "print X.shape"
   ]
  },
  {
   "cell_type": "code",
   "execution_count": 481,
   "metadata": {
    "collapsed": true
   },
   "outputs": [],
   "source": [
    "X = X[np.argsort(y)]\n",
    "y = y[np.argsort(y)]"
   ]
  },
  {
   "cell_type": "code",
   "execution_count": 498,
   "metadata": {
    "collapsed": true
   },
   "outputs": [],
   "source": [
    "# clf = SVC(C=1e1, kernel=\"linear\", class_weight=\"balanced\")\n",
    "clf = sklearn.linear_model.LogisticRegression(C=1e-1, penalty='l1', fit_intercept=False, class_weight=\"balanced\")"
   ]
  },
  {
   "cell_type": "markdown",
   "metadata": {},
   "source": [
    "# K-fold cross-validation accuracy score"
   ]
  },
  {
   "cell_type": "code",
   "execution_count": 515,
   "metadata": {},
   "outputs": [
    {
     "name": "stdout",
     "output_type": "stream",
     "text": [
      "acc\t0.930476190476\n",
      "nonzero\t11\n"
     ]
    }
   ],
   "source": [
    "kf = StratifiedKFold(n_splits=5, shuffle=True)\n",
    "acc_scores = []\n",
    "for train, test in kf.split(X=X, y=y):\n",
    "    clf.fit(X[train], y[train])\n",
    "    acc_scores.append(metrics.accuracy_score(y[test], clf.predict(X[test])))\n",
    "print \"acc\\t\", np.average(acc_scores)\n",
    "print \"nonzero\\t\", len(np.nonzero(clf.coef_)[0])"
   ]
  },
  {
   "cell_type": "code",
   "execution_count": 500,
   "metadata": {},
   "outputs": [
    {
     "data": {
      "text/plain": [
       "array([[ 0.,  0.,  0., ...,  0.,  0.,  0.]])"
      ]
     },
     "execution_count": 500,
     "metadata": {},
     "output_type": "execute_result"
    }
   ],
   "source": [
    "clf.coef_"
   ]
  },
  {
   "cell_type": "markdown",
   "metadata": {},
   "source": [
    "# Try metric learning"
   ]
  },
  {
   "cell_type": "code",
   "execution_count": 484,
   "metadata": {
    "collapsed": true
   },
   "outputs": [],
   "source": [
    "sdml = metric_learn.sdml.SDML(balance_param=0.9, sparsity_param=0.5, use_cov=False, verbose=True)"
   ]
  },
  {
   "cell_type": "code",
   "execution_count": 485,
   "metadata": {},
   "outputs": [
    {
     "name": "stdout",
     "output_type": "stream",
     "text": [
      "[graph_lasso] Iteration   0, cost  6.20e+03, dual gap -2.274e-13\n"
     ]
    },
    {
     "data": {
      "text/plain": [
       "<metric_learn.sdml.SDML at 0x113281610>"
      ]
     },
     "execution_count": 485,
     "metadata": {},
     "output_type": "execute_result"
    }
   ],
   "source": [
    "def connectivy_matrix(y):\n",
    "    W = np.zeros((len(y), len(y)))\n",
    "    for i in range(len(y)):\n",
    "        for j in range(len(y)):\n",
    "            if i != j:\n",
    "                if y[i] == y[j]:\n",
    "                    W[i,j] = 1\n",
    "                elif y[i] != y[j]:\n",
    "                    W[i,j] = -1\n",
    "    return W\n",
    "\n",
    "W = connectivy_matrix(y)\n",
    "sdml.fit(X=X, W=W)"
   ]
  },
  {
   "cell_type": "code",
   "execution_count": 576,
   "metadata": {},
   "outputs": [
    {
     "data": {
      "image/png": "[encoded data removed]",
      "text/plain": [
       "<matplotlib.figure.Figure at 0x115e74ed0>"
      ]
     },
     "metadata": {},
     "output_type": "display_data"
    }
   ],
   "source": [
    "data = sdml.metric()\n",
    "\n",
    "plt.figure(figsize=(7,6))\n",
    "cmap = \"bwr\"\n",
    "vminmax = max(np.abs(np.min(data)), np.abs(np.max(data)))\n",
    "img2 = plt.imshow(data+data2, aspect='auto', interpolation=\"nearest\", cmap=cmap, vmin=-vminmax, vmax=vminmax)\n",
    "# plt.plot(clf.coef_)\n",
    "plt.colorbar(img2, cmap=cmap)\n",
    "plt.show()"
   ]
  },
  {
   "cell_type": "code",
   "execution_count": 495,
   "metadata": {},
   "outputs": [
    {
     "data": {
      "text/plain": [
       "637"
      ]
     },
     "execution_count": 495,
     "metadata": {},
     "output_type": "execute_result"
    }
   ],
   "source": [
    "np.sum(np.diag(sdml.metric()) > 0.95)"
   ]
  },
  {
   "cell_type": "code",
   "execution_count": 513,
   "metadata": {},
   "outputs": [
    {
     "data": {
      "text/plain": [
       "array([[ 0.,  0.,  0., ...,  0.,  0.,  0.]])"
      ]
     },
     "execution_count": 513,
     "metadata": {},
     "output_type": "execute_result"
    }
   ],
   "source": [
    "clf.coef_"
   ]
  },
  {
   "cell_type": "code",
   "execution_count": null,
   "metadata": {
    "collapsed": true
   },
   "outputs": [],
   "source": []
  }
 ],
 "metadata": {
  "kernelspec": {
   "display_name": "Python [conda root]",
   "language": "python",
   "name": "conda-root-py"
  },
  "language_info": {
   "codemirror_mode": {
    "name": "ipython",
    "version": 2
   },
   "file_extension": ".py",
   "mimetype": "text/x-python",
   "name": "python",
   "nbconvert_exporter": "python",
   "pygments_lexer": "ipython2",
   "version": "2.7.13"
  }
 },
 "nbformat": 4,
 "nbformat_minor": 2
}
